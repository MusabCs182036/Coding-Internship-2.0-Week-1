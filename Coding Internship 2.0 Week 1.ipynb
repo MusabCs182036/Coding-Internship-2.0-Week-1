{
 "cells": [
  {
   "cell_type": "code",
   "execution_count": 61,
   "id": "029aa927",
   "metadata": {},
   "outputs": [
    {
     "name": "stdout",
     "output_type": "stream",
     "text": [
      "Enter name : a\n",
      "Enter name : s\n",
      "Enter name : d\n",
      "Enter weight : 5\n",
      "Error\n",
      "['a', 's', 'd'] [5]\n"
     ]
    }
   ],
   "source": [
    "pupil = []\n",
    "weight= []\n",
    "for x in range(30):\n",
    "    a = input(\"Enter name : \")\n",
    "    pupil.append(a)\n",
    "for y in range(30):\n",
    "    b = eval(input(\"Enter weight : \"))\n",
    "    weight.append(b)\n",
    "    \n",
    "    #validation\n",
    "    if b > 150 or b < 50:\n",
    "        print(\"Error\")\n",
    "        break\n",
    "print(pupil,weight)"
   ]
  },
  {
   "cell_type": "code",
   "execution_count": 81,
   "id": "0fc34e17",
   "metadata": {
    "scrolled": true
   },
   "outputs": [
    {
     "name": "stdout",
     "output_type": "stream",
     "text": [
      "Enter old weight : 3\n",
      "Enter old weight : 5\n",
      "Enter old weight : 7\n",
      "Enter new weight : 8\n",
      "Enter new weight : 7\n",
      "Enter new weight : 4\n",
      "Differences in weight for each pupil: [5, 2, -3]\n"
     ]
    }
   ],
   "source": [
    "initial_weights = []\n",
    "final_weights = []\n",
    "for x in range(3):\n",
    "    a = eval(input(\"Enter old weight : \"))\n",
    "    initial_weights.append(a)\n",
    "for y in range(3):\n",
    "    b = eval(input(\"Enter new weight : \"))\n",
    "    final_weights.append(b)\n",
    "\n",
    "differences = [final_weights[i] - initial_weights[i] for i in range(len(final_weights))]\n",
    "\n",
    "print(\"Differences in weight for each pupil:\", differences)\n"
   ]
  },
  {
   "cell_type": "code",
   "execution_count": 19,
   "id": "73a39c93",
   "metadata": {},
   "outputs": [
    {
     "name": "stdout",
     "output_type": "stream",
     "text": [
      "Enter old weight : 12\n",
      "Enter old weight : 12\n",
      "Enter old weight : 12\n",
      "Enter new weight : 15\n",
      "Enter new weight : 15\n",
      "Enter new weight : 15\n",
      "At least one weight difference is greater than 2.5.\n",
      "Differences in weight for each pupil: [3, 3, 3]\n"
     ]
    }
   ],
   "source": [
    "initial_weights = []\n",
    "final_weights = []\n",
    "for x in range(3):\n",
    "    a = eval(input(\"Enter old weight : \"))\n",
    "    initial_weights.append(a)\n",
    "for y in range(3):\n",
    "    b = eval(input(\"Enter new weight : \"))\n",
    "    final_weights.append(b)\n",
    "\n",
    "differences = [final_weights[i] - initial_weights[i] for i in range(len(final_weights))]\n",
    "# Check if any weight difference is greater than 2.5\n",
    "if any(diff > 2.5 for diff in differences):\n",
    "    print(\"At least one weight difference is greater than 2.5.\")\n",
    "else:\n",
    "    print(\"No weight difference is greater than 2.5.\")\n",
    "print(\"Differences in weight for each pupil:\", differences)\n"
   ]
  },
  {
   "cell_type": "code",
   "execution_count": null,
   "id": "cf803aa8",
   "metadata": {},
   "outputs": [],
   "source": []
  }
 ],
 "metadata": {
  "kernelspec": {
   "display_name": "Python 3 (ipykernel)",
   "language": "python",
   "name": "python3"
  },
  "language_info": {
   "codemirror_mode": {
    "name": "ipython",
    "version": 3
   },
   "file_extension": ".py",
   "mimetype": "text/x-python",
   "name": "python",
   "nbconvert_exporter": "python",
   "pygments_lexer": "ipython3",
   "version": "3.11.5"
  }
 },
 "nbformat": 4,
 "nbformat_minor": 5
}
