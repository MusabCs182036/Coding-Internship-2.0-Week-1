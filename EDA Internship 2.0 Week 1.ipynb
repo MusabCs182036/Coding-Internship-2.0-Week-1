{
 "cells": [
  {
   "cell_type": "code",
   "execution_count": 36,
   "id": "4b1415c4",
   "metadata": {},
   "outputs": [
    {
     "name": "stdout",
     "output_type": "stream",
     "text": [
      "[30 32 34 36 38 40 42 44 46 48 50 52 54 56 58 60 62 64 66 68 70]\n"
     ]
    }
   ],
   "source": [
    "import numpy as np\n",
    "Even_array = np.arange(30,71,2)\n",
    "print(Even_array)"
   ]
  },
  {
   "cell_type": "code",
   "execution_count": 64,
   "id": "916037c1",
   "metadata": {},
   "outputs": [
    {
     "name": "stdout",
     "output_type": "stream",
     "text": [
      "[101.25185615  99.63101304 101.61634916  99.77670584  99.53538222\n",
      " 101.41245736  98.84598713  99.46535544  99.18238875 100.74089155\n",
      "  98.66298843  98.59087075  99.74891676 100.05708484 100.2636296 ]\n"
     ]
    }
   ],
   "source": [
    "from numpy import random\n",
    "x = random.normal(100,size=(15))\n",
    "print(x)"
   ]
  },
  {
   "cell_type": "code",
   "execution_count": 86,
   "id": "87d17747",
   "metadata": {},
   "outputs": [
    {
     "name": "stdout",
     "output_type": "stream",
     "text": [
      "The crossproduct is : \n",
      "\n",
      "[[-9 18 -9]\n",
      " [-9 18 -9]\n",
      " [-9 18 -9]]\n"
     ]
    }
   ],
   "source": [
    "import numpy as np\n",
    "matrix1 = np.array([[1,2,3],\n",
    "                    [4,5,6],\n",
    "                    [7,8,9]])\n",
    "\n",
    "matrix2 = np.array([[10,11,12],\n",
    "                    [13,14,15],\n",
    "                    [16,17,18]])\n",
    "\n",
    "crossproduct = np.cross(matrix1,matrix2)\n",
    "print(\"The crossproduct is : \\n\")\n",
    "print(crossproduct)\n"
   ]
  },
  {
   "cell_type": "code",
   "execution_count": 94,
   "id": "8861ca3c",
   "metadata": {},
   "outputs": [
    {
     "name": "stdout",
     "output_type": "stream",
     "text": [
      "determinant =  -2.0000000000000004\n"
     ]
    }
   ],
   "source": [
    "import numpy as np\n",
    "arr = np.array([[1,2],\n",
    "                [3,4]])\n",
    "\n",
    "determinant = np.linalg.det(arr)\n",
    "print(\"determinant = \",det)"
   ]
  },
  {
   "cell_type": "code",
   "execution_count": 99,
   "id": "238c6ae1",
   "metadata": {},
   "outputs": [
    {
     "name": "stdout",
     "output_type": "stream",
     "text": [
      "[[[0.43482719 0.62429003 0.03802184]\n",
      "  [0.31402971 0.42506776 0.38390541]\n",
      "  [0.5269217  0.68602521 0.25155844]]\n",
      "\n",
      " [[0.80505783 0.98409437 0.333215  ]\n",
      "  [0.26372341 0.98580797 0.29317032]\n",
      "  [0.59165624 0.65502232 0.45958057]]\n",
      "\n",
      " [[0.52782928 0.7405185  0.23814488]\n",
      "  [0.51243259 0.12679333 0.91549676]\n",
      "  [0.84587916 0.7656344  0.34315077]]]\n"
     ]
    }
   ],
   "source": [
    "from numpy import random\n",
    "arr = np.random.rand(3,3,3)\n",
    "print(arr)"
   ]
  },
  {
   "cell_type": "code",
   "execution_count": 106,
   "id": "f11d662b",
   "metadata": {},
   "outputs": [
    {
     "name": "stdout",
     "output_type": "stream",
     "text": [
      "[[0.96162583 0.6311574  0.06760868 0.74739983 0.50676086]\n",
      " [0.41412925 0.8465395  0.08941623 0.56938025 0.28667975]\n",
      " [0.87800519 0.48651839 0.016431   0.71864023 0.10641088]\n",
      " [0.19251503 0.46395982 0.48807333 0.44585517 0.78362634]\n",
      " [0.38255571 0.80073027 0.21055881 0.42549426 0.99034806]]\n"
     ]
    }
   ],
   "source": [
    "import numpy as np\n",
    "arr = np.random.rand(5,5)\n",
    "print(arr)"
   ]
  },
  {
   "cell_type": "code",
   "execution_count": 116,
   "id": "ffc5dfef",
   "metadata": {},
   "outputs": [
    {
     "name": "stdout",
     "output_type": "stream",
     "text": [
      "[[0.43403122 0.89381374 0.91168719 0.65882389 0.91517151]\n",
      " [0.429688   0.01794189 0.93947613 0.36517031 0.41338389]\n",
      " [0.2046954  0.67556737 0.79439562 0.51731339 0.85068076]\n",
      " [0.52815695 0.50640738 0.81184342 0.22879097 0.5735817 ]\n",
      " [0.73386575 0.56488218 0.468684   0.98568972 0.27711162]]\n",
      "0.01794189383802336 0.9856897210522172\n"
     ]
    }
   ],
   "source": [
    "import numpy as np\n",
    "arr = np.random.rand(5,5)\n",
    "minimum = np.min(arr)\n",
    "maximum = np.max(arr)\n",
    "print(arr)\n",
    "print(minimum,maximum)"
   ]
  },
  {
   "cell_type": "code",
   "execution_count": 124,
   "id": "9e7d361f",
   "metadata": {},
   "outputs": [
    {
     "name": "stdout",
     "output_type": "stream",
     "text": [
      "[2. 5. 8.] [0.81649658 0.81649658 0.81649658] [0.66666667 0.66666667 0.66666667]\n"
     ]
    }
   ],
   "source": [
    "import numpy as np\n",
    "\n",
    "arr = np.array([[1,2,3],\n",
    "                [4,5,6],\n",
    "                [7,8,9]])\n",
    "\n",
    "mean = np.mean(arr , axis = 1)\n",
    "std = np.std(arr , axis = 1)\n",
    "varience = np.var(arr , axis = 1)\n",
    "\n",
    "print(mean,std,varience)\n"
   ]
  }
 ],
 "metadata": {
  "kernelspec": {
   "display_name": "Python 3 (ipykernel)",
   "language": "python",
   "name": "python3"
  },
  "language_info": {
   "codemirror_mode": {
    "name": "ipython",
    "version": 3
   },
   "file_extension": ".py",
   "mimetype": "text/x-python",
   "name": "python",
   "nbconvert_exporter": "python",
   "pygments_lexer": "ipython3",
   "version": "3.11.5"
  }
 },
 "nbformat": 4,
 "nbformat_minor": 5
}
